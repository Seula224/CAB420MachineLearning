{
 "cells": [
  {
   "cell_type": "markdown",
   "id": "463a578e",
   "metadata": {},
   "source": [
    "# CAB420 Assignment 1A Question 1: Template\n",
    "Simon Denman (s.denman@qut.edu.au)\n",
    "\n",
    "## Overview\n",
    "\n",
    "This notebook provides a brief template for CAB420 Assignment 1A, Question 1. It implements the data loading, and splitting the data into the predictors and response. You are to use the data splits defined here in your response.\n",
    "\n",
    "The template also provides other suggestions around how to approach the problem.\n",
    "\n",
    "Please make sure you read the assignment brief on canvas, and check the FAQ for other information.\n",
    "\n",
    "**Note: File paths used in this template may need to change for your local machine. Please set these based on your local file system structure.**"
   ]
  },
  {
   "cell_type": "code",
   "execution_count": null,
   "id": "d1b90982-6bd8-4cef-9584-f5e44dfb99e2",
   "metadata": {},
   "outputs": [],
   "source": [
    "import pandas\n",
    "import numpy"
   ]
  },
  {
   "cell_type": "code",
   "execution_count": null,
   "id": "f25ecd34-7980-4cd9-84ab-3b28ff427af4",
   "metadata": {},
   "outputs": [],
   "source": [
    "# load data\n",
    "train = pandas.read_csv('../Data/Q1/communities_train.csv')\n",
    "val = pandas.read_csv('../Data/Q1/communities_val.csv')\n",
    "test = pandas.read_csv('../Data/Q1/communities_test.csv')\n",
    "\n",
    "# Pull out X and y components of the data\n",
    "# if you want to convert this data to numpy format, you can add .to_numpy() to the end of each row below\n",
    "X_train = train.iloc[:,0:-1]\n",
    "y_train = train.iloc[:,-1]\n",
    "X_val = val.iloc[:,0:-1]\n",
    "y_val = val.iloc[:,-1]\n",
    "X_test = test.iloc[:,0:-1]\n",
    "y_test = test.iloc[:,-1]"
   ]
  },
  {
   "cell_type": "code",
   "execution_count": null,
   "id": "7b647dff-cca4-40a8-8e94-dee2cb10a3eb",
   "metadata": {},
   "outputs": [],
   "source": [
    "# If you wish to pre-process the data, do so here. In your write-up, outline why you choose to do, or choose not to do, any\n",
    "# pre-processing"
   ]
  },
  {
   "cell_type": "code",
   "execution_count": null,
   "id": "7cc71079",
   "metadata": {},
   "outputs": [],
   "source": [
    "# train your Linear Regression model here. Data has already been split into predictors (X_train, X_val and X_test) and the\n",
    "# desired response (y_train, y_val and y_test above).\n",
    "#\n",
    "# Note that you DO NOT NEED to remove any variables, or add higher order terms. JUST USE THE DATA AS IS.\n",
    "#\n",
    "\n",
    "# Once you've trained the model, evaluate it. This would include:\n",
    "#  - Measuring the accuracy of the model (i.e. RMSE or similar measures)\n",
    "#  - Looking at the properties of the fitted model, for example the R^2, and if all terms are contributing to the model\n",
    "#  - Considering the validity of the trained model. This could include assumptions about independent predictors, and the \n",
    "#    distribution of the residuals\n",
    "# Your write-up should include your findings regarding the above."
   ]
  },
  {
   "cell_type": "code",
   "execution_count": null,
   "id": "00a61ba8-9830-4342-8dda-e5f453f3bd12",
   "metadata": {},
   "outputs": [],
   "source": [
    "# train your regularised models (ridge and lasso). Here you will use the same data as you used in for the above regression model\n",
    "#\n",
    "# One key consideration with your regularised models is the selection of lambda (i.e. the strength of the regularisation). A suggested \n",
    "# starting point for finding your value of lambda is suggested below using numpy.logspace (see \n",
    "# https://numpy.org/doc/stable/reference/generated/numpy.logspace.html). The code below will give you 50 values starting at 10-10 and \n",
    "# finishing at 1, spread on a log scale. Just note that for plotting things that result from this, you may want to change the scale of \n",
    "# your x-axis to a log scale (see https://matplotlib.org/stable/api/_as_gen/matplotlib.pyplot.xscale.html)\n",
    "#\n",
    "# Note that the below list of lambda is going to be fairly coarse. For the sake of speed, we suggest that you avoid evaluating a huge\n",
    "# number of lambdas in one pass, but you can get a more precise estimate by refining your estimate over multiple passes (i.e. if your\n",
    "# initial estimate if 0.1, you could run the search again now looking over a range of [0.01 .. 1.0] or similar). If you wish to do this,\n",
    "# we suggest limiting yourself to 2-3 passes at most. You do not need to get the perfect value of lambda.\n",
    "#\n",
    "# remember that lambda is a keyword in python, so we're calling the array below alphas. \n",
    "#\n",
    "alphas = numpy.logspace(-10, 0)\n",
    "\n",
    "# Once you've found your ridge and lasso models, evaluate them, following the approach you've used for the linear method, and compare the\n",
    "# three models."
   ]
  },
  {
   "cell_type": "code",
   "execution_count": null,
   "id": "8e987e4e-6ec6-42f9-9689-a7057e0dd572",
   "metadata": {},
   "outputs": [],
   "source": [
    "# For your write-up, you should include:\n",
    "# - a discussion of any pre-processing you did and why; or why you left the data as-is\n",
    "# - a discussion of how you selected the values of lambda used in your regularised models, and what those values are\n",
    "# - a comparison of three models, considering both the accuracy and validity of the models, as outlined above, this means:\n",
    "#   > accuracy of the model\n",
    "#   > measures of fit, such as R^2\n",
    "#   > testing assumptions about the independence of predictors, and the distribution of the residuals\n",
    "# - A discussion of the ethical concerns that need to be considered when evaluating the models developed for this problem\n",
    "# Your write-up should be supported by appropriate figures and tables. Figures and tables should have numbers and meaningful captions. \n",
    "# Note that figures and tables are not included in the page limits.\n",
    "#\n",
    "# SEE THE ASSIGNMENT BRIEF ON CANVAS FOR MORE DETAILS AND NOTE THAT A NOTEBOOK FILE DOES NOT CONSTITUTE A VALID SUBMISSION. \n",
    "# YOU SHOULD WRITE UP YOUR RESPONSE IN A SEPARATE DOCUMENT"
   ]
  }
 ],
 "metadata": {
  "kernelspec": {
   "display_name": "Python 3 (ipykernel)",
   "language": "python",
   "name": "python3"
  },
  "language_info": {
   "codemirror_mode": {
    "name": "ipython",
    "version": 3
   },
   "file_extension": ".py",
   "mimetype": "text/x-python",
   "name": "python",
   "nbconvert_exporter": "python",
   "pygments_lexer": "ipython3",
   "version": "3.10.12"
  }
 },
 "nbformat": 4,
 "nbformat_minor": 5
}
