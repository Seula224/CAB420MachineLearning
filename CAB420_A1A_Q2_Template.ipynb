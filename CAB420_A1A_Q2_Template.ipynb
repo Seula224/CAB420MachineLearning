{
 "cells": [
  {
   "cell_type": "markdown",
   "id": "8ed2c81f",
   "metadata": {},
   "source": [
    "# CAB420 Assignment 1A Question 2: Template\n",
    "Simon Denman (s.denman@qut.edu.au)\n",
    "\n",
    "## Overview\n",
    "\n",
    "This notebook provides a brief template for CAB420 Assignment 1A, Question 2. It simply implements the data loading, and splitting the data into the predictors and response. You are to use the data splits defined here in your response.\n",
    "\n",
    "The template also provides other suggestions around how to approach the problem.\n",
    "\n",
    "Please make sure you read the assignment brief on canvas, and check the FAQ for other information.\n",
    "\n",
    "**Note: File paths used in this template may need to change for your local machine. Please set these based on your local file system structure.**"
   ]
  },
  {
   "cell_type": "code",
   "execution_count": 1,
   "id": "8e6be6f4-1f72-4694-a81f-60aa9d7ba3fd",
   "metadata": {},
   "outputs": [],
   "source": [
    "import pandas\n",
    "import numpy\n",
    "from sklearn.model_selection import PredefinedSplit"
   ]
  },
  {
   "cell_type": "code",
   "execution_count": 2,
   "id": "63c71d83-9f1f-4361-a9fa-43b5f0d1fabf",
   "metadata": {},
   "outputs": [],
   "source": [
    "# load data\n",
    "train = pandas.read_csv('Q2/training.csv')\n",
    "val = pandas.read_csv('Q2/validation.csv')\n",
    "test = pandas.read_csv('Q2/testing.csv')\n",
    "\n",
    "# pull out X and y data, convert to numpy\n",
    "X_train = train.iloc[:,1:].to_numpy()\n",
    "Y_train = train.iloc[:,0].to_numpy()\n",
    "X_val = val.iloc[:,1:].to_numpy()\n",
    "Y_val = val.iloc[:,0].to_numpy()\n",
    "X_test = test.iloc[:,1:].to_numpy()\n",
    "Y_test = test.iloc[:,0].to_numpy()"
   ]
  },
  {
   "cell_type": "code",
   "execution_count": 3,
   "id": "33a649f4",
   "metadata": {},
   "outputs": [],
   "source": [
    "# If you wish to pre-process the data, do so here. In your write-up, outline why you choose to do, or choose not to do, any\n",
    "# pre-processing"
   ]
  },
  {
   "cell_type": "code",
   "execution_count": 4,
   "id": "35633ba7-d7dd-4dcf-b1c0-4f7b30f0178e",
   "metadata": {},
   "outputs": [],
   "source": [
    "# Q2 asks you to use a grid search for each model. You are to evaluate the models on the validation set, and train on the train\n",
    "# set. If you wish to use sklearn's GridSearchCV, you will need to setup a PredefinedSplit to pass into this. An appropraite\n",
    "# PredefinedSplit object is created below.\n",
    "X_train_and_val = numpy.vstack((X_train, X_val))\n",
    "Y_train_and_val = numpy.hstack((Y_train, Y_val))\n",
    "mask = numpy.zeros(len(Y_train_and_val))\n",
    "mask[0:len(Y_train)] = -1\n",
    "train_val_split = PredefinedSplit(mask)"
   ]
  },
  {
   "cell_type": "code",
   "execution_count": 5,
   "id": "c69fc1e3-15f9-4785-995a-9ab1b7f6799a",
   "metadata": {},
   "outputs": [],
   "source": [
    "# Train your CKNN. You should consider the following parameters at least:\n",
    "#  - K\n",
    "#  - Distance Metric\n",
    "#  - Weighting Scheme\n",
    "# Please note, you'd don't need to find the \"perfect\" parameters. The grid search does not need to consider every possible value,\n",
    "# and can be quite coarse to avoid long run-times. You may also wish to conduct a rough search first, and then a refined search, \n",
    "# though this is not required."
   ]
  },
  {
   "cell_type": "code",
   "execution_count": 6,
   "id": "11153db8-8eeb-4928-aae0-0771504148e8",
   "metadata": {},
   "outputs": [],
   "source": [
    "# Train your SVM. You should consider the following parameters at least:\n",
    "#  - C\n",
    "#  - Kernel Type\n",
    "#  - Kernel Parameters\n",
    "#  - Ensemble scheme (i.e. \"one vs one\" or \"one vs all\")\n",
    "# Please note, you'd don't need to find the \"perfect\" parameters. The grid search does not need to consider every possible value,\n",
    "# and can be quite coarse to avoid long run-times. You may also wish to conduct a rough search first, and then a refined search, \n",
    "# though this is not required."
   ]
  },
  {
   "cell_type": "code",
   "execution_count": 7,
   "id": "1971ac64-9d6f-44a7-99fe-b388657183ad",
   "metadata": {},
   "outputs": [],
   "source": [
    "# Train your RF. You should consider the following parameters at least:\n",
    "#  - Tree depth\n",
    "#  - Number of estimators\n",
    "# Please note, you'd don't need to find the \"perfect\" parameters. The grid search does not need to consider every possible value,\n",
    "# and can be quite coarse to avoid long run-times. You may also wish to conduct a rough search first, and then a refined search, \n",
    "# though this is not required."
   ]
  },
  {
   "cell_type": "code",
   "execution_count": 8,
   "id": "fbcc1bf8-0f3f-4231-a981-edcc28ba7acf",
   "metadata": {},
   "outputs": [],
   "source": [
    "# Evaluate the three methods. This should consider appropriate performance measures for the classifiers, such as F1, and \n",
    "# visualisations of performance (i.e. confusion matrices) that demonstrate any difference in perfomance between the models."
   ]
  },
  {
   "cell_type": "code",
   "execution_count": 9,
   "id": "7e1bfd6f-b162-4ed0-a975-9500377004d7",
   "metadata": {},
   "outputs": [],
   "source": [
    "# For your write-up, you should include:\n",
    "# - a discussion of any pre-processing you did and why; or why you left the data as-is\n",
    "# - a discussion of how you selected the hyper-parameters for each of your models, and how these may be influenced by any data \n",
    "#   characteristics, and any effect you may see from the selected hyper-parameters (ie. if you have found a small value for a \n",
    "#   hyper parameter, what effect will this have on the model compared to a large value?) \n",
    "# - an evaluation and comparison of three models, which should highlight any differences observed between the models\n",
    "# Your write-up should be supported by appropriate figures and tables. Figures and tables should have numbers and meaningful captions.\n",
    "# Note that figures and tables are not included in the page limits.\n",
    "#\n",
    "# SEE THE ASSIGNMENT BRIEF ON CANVAS FOR MORE DETAILS AND NOTE THAT A NOTEBOOK FILE DOES NOT CONSTITUTE A VALID SUBMISSION. \n",
    "# YOU SHOULD WRITE UP YOUR RESPONSE IN A SEPARATE DOCUMENT"
   ]
  }
 ],
 "metadata": {
  "kernelspec": {
   "display_name": "Python 3 (ipykernel)",
   "language": "python",
   "name": "python3"
  },
  "language_info": {
   "codemirror_mode": {
    "name": "ipython",
    "version": 3
   },
   "file_extension": ".py",
   "mimetype": "text/x-python",
   "name": "python",
   "nbconvert_exporter": "python",
   "pygments_lexer": "ipython3",
   "version": "3.11.11"
  }
 },
 "nbformat": 4,
 "nbformat_minor": 5
}
